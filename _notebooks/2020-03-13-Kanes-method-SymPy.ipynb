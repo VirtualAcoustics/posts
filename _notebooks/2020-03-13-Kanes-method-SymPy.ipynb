{
 "cells": [
  {
   "cell_type": "markdown",
   "metadata": {},
   "source": [
    "# Double pendulum with torsion damper\n",
    "> Application of Kane's method assisted with SymPy.\n",
    "\n",
    "- toc: true\n",
    "- branch: master\n",
    "- badges: false\n",
    "- comments: true\n",
    "- author: Erik R. Gomez\n",
    "- categories: [Dynamic, Kane's method]"
   ]
  },
  {
   "cell_type": "markdown",
   "metadata": {},
   "source": [
    "Let us consider the double pendulum depicted in the figure below. A mass is located at each end of the massless rods concentrated at $\\mathcal{P}$ and $\\mathcal{Q}$. The massless rods are of length $l$ and the gravity is acting in $-\\mathbf{\\hat{n}}_{y}$. A torsional spring acts between the first and the second pendulum at point $\\mathcal{P}$ with a stiffness of $\\sigma$ and a viscous damping $\\delta$.\n",
    "\n",
    "<div>\n",
    "<img src=\"d_pend1.png\" width=\"300\"/>\n",
    "</div>\n",
    "\n",
    "Recall Kane's equations:\n",
    "$$f_{r}^* = f_{r}$$\n",
    "\n",
    "$$\\sum_{j=1}^{N} \\left[ \\dot{\\mathbf{p}}^{B_j} \\cdot \\mathbf{v}_{r}^{B_j} ~+ \\dot{\\mathbf{L}}^{B_j} \\cdot \\boldsymbol{\\omega}_{r}^{B_j}\\right] = \\sum_{j=1}^{N} \\left[ \\mathbf{F}^{B_j} ~ \\cdot \\mathbf{v}_{r}^{B_j} ~ + \\mathbf{T}^{B_j} \\cdot \\boldsymbol{\\omega}^{B_j}_r \\right]$$\n",
    "\n",
    "Let's set-up the reference frames and parameters corresponding to the figure in SymPy mechanics:"
   ]
  },
  {
   "cell_type": "code",
   "execution_count": 15,
   "metadata": {},
   "outputs": [],
   "source": [
    "import sympy as sp\n",
    "import sympy.physics.mechanics as me\n",
    "me.init_vprinting()\n",
    "\n",
    "q1, q2 = me.dynamicsymbols('q1, q2') # Generalized coordinates as function of time\n",
    "qd1, qd2 = me.dynamicsymbols('q1, q2', level=1) # Time-derivative of generalized coordinates\n",
    "u1, u2 = me.dynamicsymbols('u1, u2') # Generalized speeds (function of time)\n",
    "\n",
    "l, m, g = sp.symbols('l, m, g') # Constants\n",
    "sig, delta = sp.symbols('sigma, delta') # Force parameters"
   ]
  },
  {
   "cell_type": "markdown",
   "metadata": {},
   "source": [
    "Orient the reference frames:"
   ]
  },
  {
   "cell_type": "code",
   "execution_count": 16,
   "metadata": {},
   "outputs": [],
   "source": [
    "N = me.ReferenceFrame('N') # Inertial frame\n",
    "A = N.orientnew('A', 'Axis', (q1, N.z)) # Rod A frame\n",
    "B = A.orientnew('B', 'Axis', (q2, N.z)) # Rod B frame"
   ]
  },
  {
   "cell_type": "markdown",
   "metadata": {},
   "source": [
    "## Kinematics\n",
    "Rotational motion:\n",
    "$$\\boldsymbol{\\omega}^{A} = \\dot{q}_1 \\mathbf{\\hat{n}_z}, \\qquad         \\boldsymbol{\\omega}^{B} = (\\dot{q}_1 + \\dot{q}_2) \\mathbf{\\hat{n}_{z}}$$"
   ]
  },
  {
   "cell_type": "code",
   "execution_count": 17,
   "metadata": {},
   "outputs": [
    {
     "data": {
      "image/png": "[encoded data removed]",
      "text/latex": [
       "$\\displaystyle \\dot{q}_{1}\\mathbf{\\hat{n}_z}$"
      ],
      "text/plain": [
       "q₁̇ n_z"
      ]
     },
     "execution_count": 17,
     "metadata": {},
     "output_type": "execute_result"
    }
   ],
   "source": [
    "A.ang_vel_in(N).express(N)"
   ]
  },
  {
   "cell_type": "code",
   "execution_count": 18,
   "metadata": {},
   "outputs": [
    {
     "data": {
      "image/png": "[encoded data removed]",
      "text/latex": [
       "$\\displaystyle (\\dot{q}_{1} + \\dot{q}_{2})\\mathbf{\\hat{n}_z}$"
      ],
      "text/plain": [
       "(q₁̇ + q₂̇) n_z"
      ]
     },
     "execution_count": 18,
     "metadata": {},
     "output_type": "execute_result"
    }
   ],
   "source": [
    "B.ang_vel_in(N).express(N)"
   ]
  },
  {
   "cell_type": "markdown",
   "metadata": {},
   "source": [
    "### Choose generalized speeds as:\n",
    "$$u_1 = \\dot{q}_1, \\qquad  u_2 = \\dot{q}_1 + \\dot{q}_2$$\n",
    "so\n",
    "$$\\boldsymbol{\\omega}^{A} = u_1 \\mathbf{\\hat{n}_z}, \\qquad         \\boldsymbol{\\omega}^{B} = u_2 \\mathbf{\\hat{n}_{z}}$$."
   ]
  },
  {
   "cell_type": "code",
   "execution_count": 19,
   "metadata": {},
   "outputs": [],
   "source": [
    "kde = [u1 - qd1, u2 - (qd1 + qd2)] # Kinematical differential equation"
   ]
  },
  {
   "cell_type": "markdown",
   "metadata": {},
   "source": [
    "### Differentiation of vector:\n",
    "$$\\frac{^{N}d \\mathbf{r}}{d t} =  \\frac{^{A}d \\mathbf{r}}{d t} + ^{N}\\omega^{A} \\times \\mathbf{r} $$\n",
    "\n",
    "or by the two-point formula\n",
    "$$^{N}\\mathbf{v}^{\\mathcal{P}} =  ^{A}\\mathbf{v}^{\\mathcal{O}} + ^{N}\\boldsymbol{\\omega}^{A} \\times \\mathbf{r}_{\\mathcal{OP}}.$$\n",
    "\n",
    "### Calculate the velocities of $\\mathcal{P}$ and $\\mathcal{Q}$:\n",
    "Position vectors:\n",
    "\n",
    "$$\\mathbf{r}^{\\mathcal{OP}} = - l \\mathbf{\\hat{a}_y}$$\n",
    "\n",
    "$$\\mathbf{r}^{\\mathcal{OQ}} = - l \\mathbf{\\hat{a}_y} - l \\mathbf{\\hat{b}_y}$$\n",
    "\n",
    "Velocities:\n",
    "\n",
    "$$\\mathbf{v}^{\\mathcal{P}} = l u_1\\mathbf{\\hat{a}_x}$$\n",
    "\n",
    "$$\\mathbf{v}^{\\mathcal{Q}} = l u_1\\mathbf{\\hat{a}_x} + l u_2\\mathbf{\\hat{b}_x}$$\n",
    "\n",
    "In Sympy Mechanics:"
   ]
  },
  {
   "cell_type": "code",
   "execution_count": 20,
   "metadata": {},
   "outputs": [
    {
     "data": {
      "image/png": "[encoded data removed]",
      "text/latex": [
       "$\\displaystyle l \\dot{q}_{1}\\mathbf{\\hat{a}_x}$"
      ],
      "text/plain": [
       "l⋅q₁̇ a_x"
      ]
     },
     "execution_count": 20,
     "metadata": {},
     "output_type": "execute_result"
    }
   ],
   "source": [
    "O = me.Point('O') # Origo\n",
    "O.set_vel(N, 0)\n",
    "\n",
    "P = O.locatenew('P', ( -l * A.y )) # Point @ end of rod A\n",
    "Ap = me.Particle('Ap', P, m) # Define mass\n",
    "P.v2pt_theory(O, N, A) # Set velocity"
   ]
  },
  {
   "cell_type": "code",
   "execution_count": 21,
   "metadata": {},
   "outputs": [
    {
     "data": {
      "image/png": "[encoded data removed]",
      "text/latex": [
       "$\\displaystyle l \\dot{q}_{1}\\mathbf{\\hat{a}_x} + l \\left(\\dot{q}_{1} + \\dot{q}_{2}\\right)\\mathbf{\\hat{b}_x}$"
      ],
      "text/plain": [
       "l⋅q₁̇ a_x + l⋅(q₁̇ + q₂̇) b_x"
      ]
     },
     "execution_count": 21,
     "metadata": {},
     "output_type": "execute_result"
    }
   ],
   "source": [
    "Q = P.locatenew('Q', ( -l * B.y)) # Point @ end of rod B\n",
    "Bp = me.Particle('Bp', Q, m)\n",
    "Q.v2pt_theory(P, N, B) # Set velocity"
   ]
  },
  {
   "cell_type": "markdown",
   "metadata": {},
   "source": [
    "Accelerations are needed in Kane's method:\n",
    "\n",
    "$$\\mathbf{a}^{\\mathcal{P}} = l \\dot{u}_{1}\\mathbf{\\hat{a}_x} +  l u_{1}^{2}\\mathbf{\\hat{a}_y}$$\n",
    "\n",
    "$$\\mathbf{a}^{\\mathcal{Q}} = l \\dot{u}_{1}\\mathbf{\\hat{a}_x} + l u_{1}^{2}\\mathbf{\\hat{a}_y} + l \\dot{u}_{2}\\mathbf{\\hat{b}_x} + l u_{2}^{2}\\mathbf{\\hat{b}_y}$$"
   ]
  },
  {
   "cell_type": "code",
   "execution_count": 22,
   "metadata": {},
   "outputs": [
    {
     "data": {
      "image/png": "[encoded data removed]",
      "text/latex": [
       "$\\displaystyle l \\ddot{q}_{1}\\mathbf{\\hat{a}_x} + l \\dot{q}_{1}^{2}\\mathbf{\\hat{a}_y}$"
      ],
      "text/plain": [
       "               2\n",
       "l⋅q₁̈ a_x + l⋅q₁̇  a_y"
      ]
     },
     "execution_count": 22,
     "metadata": {},
     "output_type": "execute_result"
    }
   ],
   "source": [
    "P.acc(N)"
   ]
  },
  {
   "cell_type": "code",
   "execution_count": 23,
   "metadata": {},
   "outputs": [
    {
     "data": {
      "image/png": "[encoded data removed]",
      "text/latex": [
       "$\\displaystyle l \\ddot{q}_{1}\\mathbf{\\hat{a}_x} + l \\dot{q}_{1}^{2}\\mathbf{\\hat{a}_y} + l \\left(\\ddot{q}_{1} + \\ddot{q}_{2}\\right)\\mathbf{\\hat{b}_x} + l \\left(\\dot{q}_{1} + \\dot{q}_{2}\\right)^{2}\\mathbf{\\hat{b}_y}$"
      ],
      "text/plain": [
       "               2                                    2\n",
       "l⋅q₁̈ a_x + l⋅q₁̇  a_y + l⋅(q₁̈ + q₂̈) b_x + l⋅(q₁̇ + q₂̇)  b_y"
      ]
     },
     "execution_count": 23,
     "metadata": {},
     "output_type": "execute_result"
    }
   ],
   "source": [
    "Q.acc(N)"
   ]
  },
  {
   "cell_type": "markdown",
   "metadata": {},
   "source": [
    "## Inertial forces\n",
    "Let us calculate the inertial forces before applying forces. \n",
    "$$f^*_r= \\sum_{j=1}^{N} \\left[ \\dot{\\mathbf{p}}^{B_j} \\cdot \\mathbf{v}_{r}^{B_j} ~+ \\dot{\\mathbf{L}}^{B_j} \\cdot \\boldsymbol{\\omega}_{r}^{B_j}\\right]$$\n",
    "We have\n",
    "$$\\mathbf{v}^{\\mathcal{P}} = l u_1\\mathbf{\\hat{a}_x}, \\qquad \\mathbf{v}^{\\mathcal{Q}} = l u_1\\mathbf{\\hat{a}_x} + l u_2\\mathbf{\\hat{b}_x}$$"
   ]
  },
  {
   "cell_type": "markdown",
   "metadata": {},
   "source": [
    "### Partial velocities become\n",
    "$$\\mathbf{v}^{\\mathcal{P}}_1 = \\frac{\\partial{} \\mathbf{v}^{\\mathcal{P}}}{\\partial u_1} = l \\mathbf{\\hat{a}_x}, \\qquad\n",
    "\\mathbf{v}^{\\mathcal{Q}}_1 = \\frac{\\partial{} \\mathbf{v}^{\\mathcal{Q}}}{\\partial u_1} = l \\mathbf{\\hat{a}_x},\n",
    "$$\n",
    "\n",
    "$$\\mathbf{v}^{\\mathcal{P}}_2 = \\frac{\\partial{} \\mathbf{v}^{\\mathcal{P}}}{\\partial u_2} = \\mathbf{0}, \\qquad\n",
    "\\mathbf{v}^{\\mathcal{Q}}_2 = \\frac{\\partial{} \\mathbf{v}^{\\mathcal{Q}}}{\\partial u_2} = l \\mathbf{\\hat{b}_x}\n",
    "$$"
   ]
  },
  {
   "cell_type": "markdown",
   "metadata": {},
   "source": [
    "### Time derivative of momentum\n",
    "$$\\mathbf{\\dot{p}}^{\\mathcal{P}} = m \\left(l \\dot{u}_{1}\\mathbf{\\hat{a}_x} + l u_{1}^{2}\\mathbf{\\hat{a}_y} \\right), \\quad \\mathbf{\\dot{p}}^{\\mathcal{Q}} = m \\left(l \\dot{u}_{1}\\mathbf{\\hat{a}_x} + l u_{1}^{2}\\mathbf{\\hat{a}_y} + l \\dot{u}_{2}\\mathbf{\\hat{b}_x} + l u_{2}^{2}\\mathbf{\\hat{b}_y}\\right)$$\n"
   ]
  },
  {
   "cell_type": "markdown",
   "metadata": {},
   "source": [
    "### Evaluate the sum\n",
    "$$f^*_1 = m \\left(l \\dot{u}_{1}\\mathbf{\\hat{a}_x} + l u_{1}^{2}\\mathbf{\\hat{a}_y} \\right) \\cdot l \\mathbf{\\hat{a}_x} + m \\left(l \\dot{u}_{1}\\mathbf{\\hat{a}_x} + l u_{1}^{2}\\mathbf{\\hat{a}_y} + l \\dot{u}_{2}\\mathbf{\\hat{b}_x} + l u_{2}^{2}\\mathbf{\\hat{b}_y}\\right)\\cdot l \\mathbf{\\hat{a}_x} = 2 m l^{2} \\dot{u}_{1} +  m  l^{2}\\dot{u}_{2} \\operatorname{cos}\\left(q_{2}\\right)- m l^{2}  u^{2}_{2} \\operatorname{sin}\\left(q_{2}\\right)$$\n",
    "\n",
    "\n",
    "\n",
    "$$f^*_2 = m \\left(l \\dot{u}_{1}\\mathbf{\\hat{a}_x} + l u_{1}^{2}\\mathbf{\\hat{a}_y} \\right) \\cdot \\mathbf{0} + m \\left(l \\dot{u}_{1}\\mathbf{\\hat{a}_x} + l u_{1}^{2}\\mathbf{\\hat{a}_y} + l \\dot{u}_{2}\\mathbf{\\hat{b}_x} + l u_{2}^{2}\\mathbf{\\hat{b}_y}\\right)\\cdot l \\mathbf{\\hat{b}_x} = m  l^{2}\\dot{u}_{1} \\operatorname{cos}\\left(q_{2}\\right) + m l^{2}  u^{2}_{1} \\operatorname{sin}\\left(q_{2}\\right) + m l^{2}  \\dot{u}_{2}$$"
   ]
  },
  {
   "cell_type": "code",
   "execution_count": 24,
   "metadata": {},
   "outputs": [
    {
     "data": {
      "image/png": "[encoded data removed]",
      "text/latex": [
       "$\\displaystyle \\left[\\begin{matrix}- l^{2} m u^{2}_{2} \\operatorname{sin}\\left(q_{2}\\right) + l^{2} m \\operatorname{cos}\\left(q_{2}\\right) \\dot{u}_{2} + 2 l^{2} m \\dot{u}_{1}\\\\l^{2} m u^{2}_{1} \\operatorname{sin}\\left(q_{2}\\right) + l^{2} m \\operatorname{cos}\\left(q_{2}\\right) \\dot{u}_{1} + l^{2} m \\dot{u}_{2}\\end{matrix}\\right] = \\left[\\begin{matrix}0\\\\0\\end{matrix}\\right]$"
      ],
      "text/plain": [
       "⎡   2     2            2                   2     ⎤      \n",
       "⎢- l ⋅m⋅u₂ ⋅sin(q₂) + l ⋅m⋅cos(q₂)⋅u₂̇ + 2⋅l ⋅m⋅u₁̇⎥   ⎡0⎤\n",
       "⎢                                                ⎥ = ⎢ ⎥\n",
       "⎢   2     2            2                 2       ⎥   ⎣0⎦\n",
       "⎣  l ⋅m⋅u₁ ⋅sin(q₂) + l ⋅m⋅cos(q₂)⋅u₁̇ + l ⋅m⋅u₂̇  ⎦      "
      ]
     },
     "execution_count": 24,
     "metadata": {},
     "output_type": "execute_result"
    }
   ],
   "source": [
    "KM = me.KanesMethod(N, [q1, q2], [u1, u2], kd_eqs=kde)\n",
    "fr, fstar = KM.kanes_equations([Ap, Bp], None)\n",
    "sp.Eq(-fstar,fr)"
   ]
  },
  {
   "cell_type": "markdown",
   "metadata": {},
   "source": [
    "## Forces\n",
    "$$ f_{r} =\\sum_{j=1}^{N} \\left[ \\mathbf{F}^{B_j} ~ \\cdot \\mathbf{v}_{r}^{B_j} ~ + \\mathbf{T}^{B_j} \\cdot \\boldsymbol{\\omega}^{B_j}_r \\right]$$\n",
    "\n",
    "Recall\n",
    "$$\\boldsymbol{\\omega}^{A} = u_1 \\mathbf{\\hat{n}_z}, \\qquad         \\boldsymbol{\\omega}^{B} = u_2 \\mathbf{\\hat{n}_{z}}$$\n"
   ]
  },
  {
   "cell_type": "markdown",
   "metadata": {},
   "source": [
    "### Partial angular velocities\n",
    "$$\\boldsymbol{\\omega}^{A}_1 = \\mathbf{\\hat{n}_z}, \\quad \\boldsymbol{\\omega}^{B}_1 = \\mathbf{0},$$\n",
    "\n",
    "$$\\boldsymbol{\\omega}^{A}_2 = \\mathbf{0}, \\quad \\boldsymbol{\\omega}^{B}_2 = \\mathbf{\\hat{n}_z}.$$"
   ]
  },
  {
   "cell_type": "markdown",
   "metadata": {},
   "source": [
    "<div>\n",
    "<img src=\"d_pend1.png\" width=\"300\"/>\n",
    "</div>"
   ]
  },
  {
   "cell_type": "markdown",
   "metadata": {},
   "source": [
    "### Torques\n",
    "\n",
    "$$\\mathbf{T}^{A} = \\left(\\sigma q_2 + \\delta \\dot{q}_2 \\right) \\mathbf{\\hat{n}_z} = \\left(\\sigma q_2 + \\delta \\left(u_2 -u_1\\right) \\right) \\mathbf{\\hat{n}_z} $$\n",
    "\n",
    "$$\\mathbf{T}^{B} = -\\mathbf{T}^{A} $$\n",
    "\n",
    "### Gravity\n",
    "$$\\mathbf{F}^{\\mathcal{P}} = - g m \\mathbf{\\hat{n}_y}$$\n",
    "$$\\mathbf{F}^{\\mathcal{Q}} = - g m \\mathbf{\\hat{n}_y}$$\n",
    "\n",
    "\n",
    "\n",
    "### Evaluate the sum\n",
    "Torques\n",
    "$$ f_{1}^T = \\mathbf{T}^{A} \\cdot \\mathbf{\\hat{n}_z} + \\mathbf{T}^{B} \\cdot \\mathbf{0} =  \\sigma q_2 + \\delta \\left(u_2 -u_1\\right) $$\n",
    "\n",
    "$$ f_{2}^T = \\mathbf{T}^{A} \\cdot \\mathbf{0} + \\mathbf{T}^{B} \\cdot \\mathbf{\\hat{n}_z} = -\\sigma q_2 - \\delta \\left(u_2 -u_1\\right) $$\n",
    "\n",
    "Gravity\n",
    "$$ f_{1}^F = - g m \\mathbf{\\hat{n}_y} \\cdot l \\mathbf{\\hat{a}_x} - g m \\mathbf{\\hat{n}_y}\\cdot l \\mathbf{\\hat{a}_x} = - 2 g l m \\operatorname{sin}\\left(q_{1}\\right)$$\n",
    "\n",
    "$$ f_{2}^F = - g m \\mathbf{\\hat{n}_y} \\cdot \\mathbf{0} - g m \\mathbf{\\hat{n}_y}\\cdot l \\mathbf{\\hat{b}_x} = - g l m \\operatorname{sin}\\left(q_{1} + q_{2}\\right) $$\n"
   ]
  },
  {
   "cell_type": "code",
   "execution_count": 25,
   "metadata": {},
   "outputs": [],
   "source": [
    "# Torque\n",
    "Ta = (sig * q2 + delta * qd2) * N.z\n",
    "\n",
    "# Gravity force\n",
    "Fg = -g*m*N.y*0\n",
    "\n",
    "# Apply forces on frames and points\n",
    "forces = [(A, Ta), (B, -Ta), (P, Fg), (Q, Fg)]"
   ]
  },
  {
   "cell_type": "markdown",
   "metadata": {},
   "source": [
    "### Generate EOM"
   ]
  },
  {
   "cell_type": "code",
   "execution_count": 26,
   "metadata": {},
   "outputs": [
    {
     "data": {
      "image/png": "[encoded data removed]",
      "text/latex": [
       "$\\displaystyle \\left[\\begin{matrix}- l^{2} m u^{2}_{2} \\operatorname{sin}\\left(q_{2}\\right) + l^{2} m \\operatorname{cos}\\left(q_{2}\\right) \\dot{u}_{2} + 2 l^{2} m \\dot{u}_{1}\\\\l^{2} m u^{2}_{1} \\operatorname{sin}\\left(q_{2}\\right) + l^{2} m \\operatorname{cos}\\left(q_{2}\\right) \\dot{u}_{1} + l^{2} m \\dot{u}_{2}\\end{matrix}\\right] = \\left[\\begin{matrix}\\delta \\left(- u_{1} + u_{2}\\right) + \\sigma q_{2}\\\\- \\delta \\left(- u_{1} + u_{2}\\right) - \\sigma q_{2}\\end{matrix}\\right]$"
      ],
      "text/plain": [
       "⎡   2     2            2                   2     ⎤                         \n",
       "⎢- l ⋅m⋅u₂ ⋅sin(q₂) + l ⋅m⋅cos(q₂)⋅u₂̇ + 2⋅l ⋅m⋅u₁̇⎥   ⎡δ⋅(-u₁ + u₂) + σ⋅q₂ ⎤\n",
       "⎢                                                ⎥ = ⎢                    ⎥\n",
       "⎢   2     2            2                 2       ⎥   ⎣-δ⋅(-u₁ + u₂) - σ⋅q₂⎦\n",
       "⎣  l ⋅m⋅u₁ ⋅sin(q₂) + l ⋅m⋅cos(q₂)⋅u₁̇ + l ⋅m⋅u₂̇  ⎦                         "
      ]
     },
     "execution_count": 26,
     "metadata": {},
     "output_type": "execute_result"
    }
   ],
   "source": [
    "KM = me.KanesMethod(N, [q1, q2], [u1, u2], kd_eqs=kde) # Kane's method instance\n",
    "\n",
    "fr, fstar = KM.kanes_equations([Ap, Bp], forces) # \"Evaluate the sum\"\n",
    "\n",
    "sp.Eq(-fstar,fr) # Output EOM"
   ]
  },
  {
   "cell_type": "markdown",
   "metadata": {},
   "source": [
    "## Different generalized speeds"
   ]
  },
  {
   "cell_type": "code",
   "execution_count": 27,
   "metadata": {},
   "outputs": [
    {
     "data": {
      "image/png": "[encoded data removed]",
      "text/latex": [
       "$\\displaystyle \\left[\\begin{matrix}- l^{2} m \\left(u_{1} + u_{2}\\right)^{2} \\operatorname{sin}\\left(q_{2}\\right) + l^{2} m u^{2}_{1} \\operatorname{sin}\\left(q_{2}\\right) + m \\left(l^{2} \\operatorname{cos}\\left(q_{2}\\right) + l^{2}\\right) \\dot{u}_{2} + \\left(l^{2} m + m \\left(2 l^{2} \\operatorname{cos}\\left(q_{2}\\right) + 2 l^{2}\\right)\\right) \\dot{u}_{1}\\\\l^{2} m u^{2}_{1} \\operatorname{sin}\\left(q_{2}\\right) + l^{2} m \\dot{u}_{2} + m \\left(l^{2} \\operatorname{cos}\\left(q_{2}\\right) + l^{2}\\right) \\dot{u}_{1}\\end{matrix}\\right] = \\left[\\begin{matrix}0\\\\- \\delta u_{2} - \\sigma q_{2}\\end{matrix}\\right]$"
      ],
      "text/plain": [
       "⎡   2            2            2     2             ⎛ 2            2⎞      ⎛ 2  \n",
       "⎢- l ⋅m⋅(u₁ + u₂) ⋅sin(q₂) + l ⋅m⋅u₁ ⋅sin(q₂) + m⋅⎝l ⋅cos(q₂) + l ⎠⋅u₂̇ + ⎝l ⋅\n",
       "⎢                                                                             \n",
       "⎢                             2     2            2          ⎛ 2            2⎞ \n",
       "⎣                            l ⋅m⋅u₁ ⋅sin(q₂) + l ⋅m⋅u₂̇ + m⋅⎝l ⋅cos(q₂) + l ⎠\n",
       "\n",
       "     ⎛   2              2⎞⎞   ⎤                 \n",
       "m + m⋅⎝2⋅l ⋅cos(q₂) + 2⋅l ⎠⎠⋅u₁̇⎥   ⎡     0      ⎤\n",
       "                              ⎥ = ⎢            ⎥\n",
       "                              ⎥   ⎣-δ⋅u₂ - σ⋅q₂⎦\n",
       "⋅u₁̇                            ⎦                 "
      ]
     },
     "execution_count": 27,
     "metadata": {},
     "output_type": "execute_result"
    }
   ],
   "source": [
    "# Test different kde.\n",
    "kde1 = [u1 - qd1, u2 - qd2] # Equivalent to Lagrange\n",
    "\n",
    "KM = me.KanesMethod(N, [q1, q2], [u1, u2], kd_eqs=kde1)\n",
    "fr, fstar = KM.kanes_equations([Ap, Bp], forces)\n",
    "sp.Eq(-fstar,fr)"
   ]
  },
  {
   "cell_type": "code",
   "execution_count": null,
   "metadata": {},
   "outputs": [],
   "source": []
  }
 ],
 "metadata": {
  "kernelspec": {
   "display_name": "Python 3",
   "language": "python",
   "name": "python3"
  },
  "language_info": {
   "codemirror_mode": {
    "name": "ipython",
    "version": 3
   },
   "file_extension": ".py",
   "mimetype": "text/x-python",
   "name": "python",
   "nbconvert_exporter": "python",
   "pygments_lexer": "ipython3",
   "version": "3.6.10"
  }
 },
 "nbformat": 4,
 "nbformat_minor": 2
}
